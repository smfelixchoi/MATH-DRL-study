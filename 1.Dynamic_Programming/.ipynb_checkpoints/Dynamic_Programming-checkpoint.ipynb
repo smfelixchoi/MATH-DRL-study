{
 "cells": [
  {
   "cell_type": "markdown",
   "id": "c334924d",
   "metadata": {},
   "source": [
    "# From Bellman Equation to Dynamic Programming\n",
    "\n",
    "- 발표자: 석사과정 최선묵\n",
    "- 참고자료\n",
    "    - [파이썬과 케라스로 배우는 강화학습](https://wikibook.co.kr/rlrev)\n",
    "    - [GitHub](https://github.com/rlcode/reinforcement-learning-kr-v2)"
   ]
  },
  {
   "cell_type": "markdown",
   "id": "553a3031",
   "metadata": {},
   "source": [
    "## Bellman Equation\n",
    "\n",
    "- Bellman Expectation Equation\n",
    "\n",
    "- Bellman Optimality Equation"
   ]
  },
  {
   "cell_type": "markdown",
   "id": "0dadba7b",
   "metadata": {},
   "source": [
    "## Example 1. Driving Car"
   ]
  },
  {
   "cell_type": "markdown",
   "id": "3c1c4cd8",
   "metadata": {},
   "source": [
    "## Example 2. Grid World"
   ]
  },
  {
   "cell_type": "code",
   "execution_count": null,
   "id": "adedca07",
   "metadata": {},
   "outputs": [],
   "source": []
  }
 ],
 "metadata": {
  "kernelspec": {
   "display_name": "MathDLstudy",
   "language": "python",
   "name": "mathdl"
  },
  "language_info": {
   "codemirror_mode": {
    "name": "ipython",
    "version": 3
   },
   "file_extension": ".py",
   "mimetype": "text/x-python",
   "name": "python",
   "nbconvert_exporter": "python",
   "pygments_lexer": "ipython3",
   "version": "3.8.13"
  }
 },
 "nbformat": 4,
 "nbformat_minor": 5
}
